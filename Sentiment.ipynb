{
 "cells": [
  {
   "cell_type": "markdown",
   "metadata": {
    "collapsed": true
   },
   "source": [
    "## Imports"
   ]
  },
  {
   "cell_type": "code",
   "execution_count": 1,
   "metadata": {},
   "outputs": [
    {
     "name": "stdout",
     "output_type": "stream",
     "text": [
      "[nltk_data] Downloading package vader_lexicon to\n",
      "[nltk_data]     /Users/mick/nltk_data...\n",
      "[nltk_data]   Package vader_lexicon is already up-to-date!\n"
     ]
    },
    {
     "data": {
      "text/plain": [
       "True"
      ]
     },
     "execution_count": 1,
     "metadata": {},
     "output_type": "execute_result"
    }
   ],
   "source": [
    "import nltk\n",
    "nltk.download('vader_lexicon')"
   ]
  },
  {
   "cell_type": "code",
   "execution_count": 5,
   "metadata": {},
   "outputs": [],
   "source": [
    "from nltk.sentiment.vader import SentimentIntensityAnalyzer # For sentiment analysis\n",
    "import pickle # For loaded dataset from pickle file\n",
    "import tqdm # Progress bar\n",
    "from collections import Counter # Handy addon\n",
    "from pprint import pprint # Useful to print JSON objects\n",
    "import numpy as np"
   ]
  },
  {
   "cell_type": "code",
   "execution_count": 8,
   "metadata": {},
   "outputs": [
    {
     "name": "stdout",
     "output_type": "stream",
     "text": [
      "57767 articles were loaded\n",
      "Example article:\n",
      "{b'news_topic': b'ISIS War',\n",
      " 'introductions': [{'person': 'Bashar al-Assad',\n",
      "                    'text': 'President',\n",
      "                    'wdid': 'Q44329'},\n",
      "                   {'person': 'Emile Hokayem', 'text': 'in Foreign Policy'},\n",
      "                   {'person': 'Ahrar al Sham',\n",
      "                    'text': 'the most important groups',\n",
      "                    'wdid': 'Q860943'},\n",
      "                   {'person': 'Vladimir Putin',\n",
      "                    'text': 'Russian President',\n",
      "                    'wdid': 'Q7747'},\n",
      "                   {'person': 'Barack Obama',\n",
      "                    'text': 'U.S. President',\n",
      "                    'wdid': 'Q76'},\n",
      "                   {'person': 'Osama Abu Zeid',\n",
      "                    'text': 'a senior adviser to the moderate Free Syrian '\n",
      "                            'Army'},\n",
      "                   {'person': 'Op-Ed',\n",
      "                    'text': 'for The Washington Post',\n",
      "                    'wdid': 'Q2602337'},\n",
      "                   {'person': 'Nicholas Burns',\n",
      "                    'text': 'two former senior officials',\n",
      "                    'wdid': 'Q7025139'},\n",
      "                   {'person': 'Natalie Nougayrède',\n",
      "                    'text': 'Guardian columnist',\n",
      "                    'wdid': 'Q6430048'},\n",
      "                   {'person': 'Natalie Nougayrède',\n",
      "                    'text': '',\n",
      "                    'wdid': 'Q6430048'}],\n",
      " 'pubtime': datetime.datetime(2016, 2, 8, 15, 18, 6),\n",
      " 'source': 'cnn.com',\n",
      " 'title': 'Aleppo siege marks upheaval on Syrian battlefield',\n",
      " 'url': 'http://www.cnn.com/2016/02/07/middleeast/syria-aleppo-siege/index.html?eref=rss_world'}\n"
     ]
    }
   ],
   "source": [
    "# This loads the file that you want, might take several seconds (up to a minute)\n",
    "\n",
    "with open(\"news_sentiment.pickle\", \"rb\") as f:\n",
    "    articles = pickle.load(f, encoding='bytes')\n",
    "print(len(articles), \"articles were loaded\")\n",
    "print(\"Example article:\")\n",
    "pprint(articles[1040])\n"
   ]
  },
  {
   "cell_type": "code",
   "execution_count": 10,
   "metadata": {},
   "outputs": [
    {
     "name": "stdout",
     "output_type": "stream",
     "text": [
      "39206  articles from ISIS War and  18561 articles from Brexit were loaded\n"
     ]
    }
   ],
   "source": [
    "# separate articles from the two stories\n",
    "ISIS_articles = []\n",
    "Brexit_articles = []\n",
    "for a in articles:\n",
    "    if a[b'news_topic'] == b'ISIS War':\n",
    "        ISIS_articles.append(a)\n",
    "    else:\n",
    "        Brexit_articles.append(a)\n",
    "        \n",
    "print(len(ISIS_articles), \" articles from ISIS War and \", len(Brexit_articles), \"articles from Brexit were loaded\")"
   ]
  },
  {
   "cell_type": "code",
   "execution_count": 11,
   "metadata": {
    "collapsed": true
   },
   "outputs": [],
   "source": [
    "# get only articles from one story, you can change this\n",
    "articles = ISIS_articles"
   ]
  },
  {
   "cell_type": "markdown",
   "metadata": {},
   "source": [
    "## Extract introductions, and obtain their sentiment"
   ]
  },
  {
   "cell_type": "code",
   "execution_count": 12,
   "metadata": {},
   "outputs": [
    {
     "data": {
      "application/vnd.jupyter.widget-view+json": {
       "model_id": "bf7d3b3dfcf14d5a93d41609989846b4"
      }
     },
     "metadata": {},
     "output_type": "display_data"
    },
    {
     "name": "stdout",
     "output_type": "stream",
     "text": [
      "\n"
     ]
    }
   ],
   "source": [
    "analyzer = SentimentIntensityAnalyzer()\n",
    "\n",
    "total_introductions = []\n",
    "for a in articles:\n",
    "    for intro in a.get('introductions', []):\n",
    "        intro['source'] = a['source']\n",
    "        total_introductions.append(intro)\n",
    "\n",
    "for intro in tqdm.tqdm_notebook(total_introductions):\n",
    "    intro['sentiment'] = analyzer.polarity_scores(intro['text'])['compound']"
   ]
  },
  {
   "cell_type": "code",
   "execution_count": 14,
   "metadata": {},
   "outputs": [
    {
     "name": "stdout",
     "output_type": "stream",
     "text": [
      "---------------\n",
      "Entity mentionned: Antonio Guterres\n",
      "UN chief encouraged by restart of Syria peace talks\n",
      "Sentiment: 0.7184\n",
      "---------------\n",
      "Entity mentionned: Ash Carter\n",
      "Defense Secretary\n",
      "Sentiment: 0.128\n",
      "---------------\n",
      "Entity mentionned: Fethullah Gulen\n",
      "who the Turkish government blames for the 2016 coup attempt\n",
      "Sentiment: -0.4019\n",
      "---------------\n",
      "Entity mentionned: Najib Mikati\n",
      "whose policy of ' dissociation ' from \n",
      " Syria 's conflict next door has come under growing strain\n",
      "Sentiment: -0.2023\n",
      "---------------\n",
      "Entity mentionned: Cameron Gives Ground\n",
      "David Cameron backed down from\n",
      "Sentiment: 0.0258\n",
      "---------------\n",
      "Entity mentionned: Saad al-Hariri\n",
      "who announced his resignation as Lebanon 's Prime Minister while on a visit to Saudi Arabia\n",
      "Sentiment: -0.296\n",
      "---------------\n",
      "Entity mentionned: Ahmad Yaziji\n",
      "a civil defense chief in the nearby town of Jisr al - Shughour\n",
      "Sentiment: 0.128\n",
      "---------------\n",
      "Entity mentionned: Ibrahim Kalin\n",
      "spokesman for President Tayyip Erdogan , and U.S. National Security Adviser H.R. McMaster\n",
      "Sentiment: 0.34\n",
      "---------------\n",
      "Entity mentionned: Staffan de Mistura\n",
      "The United Nations special envoy for Syria\n",
      "Sentiment: 0.6705\n",
      "---------------\n",
      "Entity mentionned: Nasr Hariri\n",
      "in an exclusive interview with The Associated Press in Geneva\n",
      "Sentiment: 0.128\n",
      "---------------\n",
      "Entity mentionned: Andrew Barden\n",
      "To contact the editors responsible for this story :\n",
      "Sentiment: 0.3182\n",
      "---------------\n",
      "Entity mentionned: Bashar al-Assad\n",
      "buoyed by the defeat of rebels in Aleppo\n",
      "Sentiment: -0.5859\n",
      "---------------\n",
      "Entity mentionned: Ahmed Sheikho\n",
      "a volunteer with the local civil defence rescue group who visited the site of the attack\n",
      "Sentiment: 0.1531\n"
     ]
    }
   ],
   "source": [
    "# Example some sentiment for some of the introductions\n",
    "\n",
    "subsample = np.random.choice(total_introductions, 100)\n",
    "for intro in subsample:\n",
    "    if intro['sentiment'] != 0:\n",
    "        print(\"---------------\")\n",
    "        print(\"Entity mentionned:\", intro['person'])\n",
    "        print(intro['text'])\n",
    "        print(\"Sentiment:\", intro['sentiment'])"
   ]
  },
  {
   "cell_type": "markdown",
   "metadata": {},
   "source": [
    "## Build a 2-dimensional object containing sentiment per entity, per source"
   ]
  },
  {
   "cell_type": "code",
   "execution_count": 15,
   "metadata": {
    "collapsed": true
   },
   "outputs": [],
   "source": [
    "ent_source_sent = {}\n",
    "\n",
    "for intro in total_introductions:\n",
    "    p = intro['person']\n",
    "    s = intro['source']\n",
    "    if p not in ent_source_sent:\n",
    "        ent_source_sent[p] = {}\n",
    "    if s not in ent_source_sent[p]:\n",
    "        ent_source_sent[p][s] = []\n",
    "    ent_source_sent[p][s].append(intro['sentiment'])"
   ]
  },
  {
   "cell_type": "code",
   "execution_count": 17,
   "metadata": {},
   "outputs": [
    {
     "name": "stdout",
     "output_type": "stream",
     "text": [
      "{'bbc.co.uk': [0.0516, 0.0, -0.1531, 0.0, 0.0, 0.0, -0.1531, 0.0, 0.0, 0.0, 0.0, 0.0, 0.0, -0.1531, -0.3182, -0.5994, -0.5994, 0.0, 0.0, 0.0, -0.1531, 0.0, 0.0, 0.0, -0.1531, 0.0, 0.0, 0.0], 'cnn.com': [0.0, 0.0, 0.0, 0.0, 0.0, 0.0, 0.0, 0.0, 0.0, 0.0, 0.0, -0.5994, 0.0, 0.0, 0.0, 0.0, 0.0, 0.0, 0.0, 0.0, 0.0, -0.0516, 0.0, 0.0, 0.0, -0.5994, -0.3818, 0.0, 0.0, 0.0, 0.0, 0.0, 0.0, -0.7096, -0.7096, 0.0, 0.0, 0.0, -0.3612, 0.0, 0.0, 0.0, 0.0, 0.0, -0.25, 0.0, 0.0, 0.0, 0.0, 0.0, 0.0, 0.0, -0.1779], 'theguardian.com': [0.0, 0.0, 0.0, 0.0, 0.0, 0.0, 0.0, 0.0, 0.0, 0.0, 0.0, 0.0, 0.0, 0.0, 0.0, 0.0, 0.0, 0.0, 0.0, 0.0, 0.0, 0.0, 0.0, 0.0, 0.0, 0.0, 0.0, 0.0, 0.0, 0.0, 0.0, 0.0, 0.0, -0.7096, 0.0, -0.1531, 0.0], 'middleeasteye.net': [-0.1531, 0.0, 0.0, 0.0, 0.0, -0.1531, -0.4404, 0.0, 0.0, 0.0, 0.0, 0.0, 0.0, 0.0, 0.0, -0.1531, 0.0, 0.0, 0.0, 0.0, 0.0, 0.0, 0.0, 0.0, 0.0, 0.0, 0.0, 0.3612, 0.0, 0.0, -0.1531, 0.0, 0.0, -0.1531, 0.0, 0.0, -0.1531, -0.1531, 0.0, 0.0, 0.0, 0.0, 0.0, 0.0, 0.0, 0.0, -0.1531, 0.0, 0.0, 0.0, -0.1531, 0.0, 0.0, 0.0, 0.0, 0.0, 0.0, 0.0, 0.0, 0.0, -0.2023, 0.0, 0.0, 0.0, 0.0, 0.0, 0.0, 0.0, 0.0, 0.0, 0.0, 0.0, 0.0, 0.0, 0.0, 0.0, 0.0, 0.0, 0.0, 0.0, 0.0, 0.0, 0.0, 0.0, 0.0, 0.0, 0.0, 0.0, 0.0, 0.0, 0.0, 0.128, 0.0, 0.0, 0.0, 0.0, 0.0, 0.0], 'reuters.com': [-0.1531, -0.1531, 0.0, 0.0, 0.0, 0.0, 0.0, 0.0, -0.1531, -0.5994, 0.0, 0.0, -0.1531, 0.0, 0.0, 0.0, -0.1531, 0.0, 0.0, 0.0, 0.0, 0.0, 0.0, 0.0, 0.0, 0.0, 0.2617, 0.0, 0.0, 0.0, 0.0, 0.0, 0.0, 0.0, 0.0, -0.3612, -0.3612, 0.0, 0.0, 0.0, 0.0, -0.5106, 0.0, 0.0, 0.0, -0.3818, 0.0, 0.3182, 0.4404, 0.0, 0.3182, 0.4404, 0.0, -0.4404, 0.0, 0.0, 0.0, 0.0, 0.0, 0.0, -0.5719, 0.0, 0.0, 0.0, 0.0, 0.0, 0.0, -0.3182, -0.3182, -0.5994, 0.0, -0.4588, 0.0, 0.0, -0.6808, 0.0, -0.4767, 0.0, 0.0, 0.0, 0.0, 0.0, 0.0, -0.4404, 0.0, 0.0, 0.0, -0.1531, 0.0, 0.0, 0.0, 0.0, 0.0, 0.0, 0.4019, 0.0, 0.0, 0.0, 0.0, 0.0, 0.0, 0.0, 0.0, 0.0, 0.0, -0.6124, -0.1531, 0.0, 0.0, 0.0, 0.0, 0.0, 0.0, 0.0, 0.0, 0.0, 0.0, 0.0, 0.2732, 0.0, 0.0, 0.0, 0.0, 0.0, 0.0, 0.0, 0.0, 0.0, 0.0, 0.0, 0.0, 0.0, 0.128, 0.128, 0.0, 0.0, 0.0, 0.0, 0.0, 0.0, 0.0, 0.0, 0.0, 0.0, -0.1779, 0.0, -0.1779, -0.1531, -0.5994, -0.1531, -0.1531, 0.0, 0.0, 0.0, 0.0, 0.0, 0.0, 0.0, 0.0, 0.0, 0.0, 0.0, 0.2732, 0.0, 0.0, 0.0, 0.0, 0.0, 0.0, 0.0, 0.0, 0.0, 0.0, 0.0, 0.0, 0.0, 0.0, 0.0, 0.0, 0.0, 0.0, 0.0, 0.0, 0.0, 0.0, 0.0, 0.0, -0.1531, 0.0, 0.0, 0.0, 0.0, 0.0, 0.0, 0.0, 0.0, 0.0, 0.0, 0.0, -0.1531, 0.0, 0.0, -0.1531, 0.0, -0.1531, 0.0, 0.0, 0.0, 0.0, 0.0, 0.0, 0.0, 0.0, 0.0, 0.0, 0.0, 0.0, 0.128, 0.128, 0.0, 0.0, 0.0], 'rt.com': [0.5574, 0.5574, 0.0, 0.0, 0.0, -0.5994, 0.0, -0.5994, -0.5994, 0.0, 0.0, 0.0, 0.0, -0.8316, 0.0, 0.0, 0.0, 0.0, 0.0, 0.0, 0.0, 0.0, 0.0, -0.1531, 0.0, 0.0, 0.0, 0.0, 0.0, 0.0, 0.0, 0.0, 0.0, 0.0, 0.0, -0.6908], 'latimes.com': [0.0, 0.0], 'independent.co.uk': [-0.1531, 0.0, -0.0258, -0.1531, -0.6597, 0.0, 0.0, 0.0, 0.0, 0.0, 0.0, 0.0, -0.1779, 0.0, 0.0, -0.2023, 0.0, -0.2023, 0.0, -0.2023, 0.0, -0.2023, 0.0, 0.0, 0.0, 0.0, -0.2023, 0.0, 0.0, 0.0, -0.2023, 0.0, -0.2023, 0.0, 0.0, 0.0, 0.0, 0.0, -0.2023, -0.1531, 0.0, 0.0, 0.0, 0.0, 0.0, 0.0, 0.0, 0.0, 0.0, 0.0, -0.5994, 0.0, 0.0, 0.0, -0.2023, 0.0, 0.0, 0.0, 0.0, 0.0, 0.0, 0.0, 0.0, 0.0, 0.6705, 0.0, 0.0, 0.0, 0.0, 0.0, 0.0, -0.1531, 0.0, 0.0, 0.0, 0.0, 0.0, 0.0, -0.2023, 0.0, -0.2023, 0.0, 0.0, 0.0, 0.0, 0.0, 0.0, 0.0, 0.0, 0.0, 0.0, 0.0, -0.2023, 0.0, 0.0, -0.5994, 0.0, 0.0, 0.0, 0.0, -0.2023, 0.0, -0.2023, -0.2023, 0.0, -0.2023, 0.0, 0.0, 0.0, 0.0, 0.0, 0.0, 0.0, 0.0, 0.0, 0.0], 'aljazeera.com': [-0.3182, 0.0, 0.0, -0.1531, 0.0, 0.0, -0.1531, 0.0, 0.0, 0.0, 0.0, 0.0, 0.0, 0.0, 0.0, 0.0, 0.0, 0.0, 0.0, 0.0, 0.0, 0.0, 0.0, 0.0, 0.0, -0.1531, -0.1531, 0.0, 0.0, 0.0, 0.0, 0.0, -0.1531, 0.0, -0.34, 0.0, 0.0, 0.0, 0.0, 0.0, 0.0, 0.4939, 0.0, 0.0, 0.0, 0.0, 0.0, 0.0, 0.0, 0.0, 0.0, 0.0, 0.0, 0.0, -0.0516, -0.0516, -0.1531, 0.0, 0.0, -0.4404, -0.4404], 'france24.com': [-0.3182, 0.0, -0.6705, 0.0, 0.0, 0.0, 0.0, 0.0, 0.0, 0.0, 0.0, 0.0, 0.0, 0.0, 0.0, 0.0, 0.0, 0.0, 0.0, -0.2023, 0.0, 0.0, -0.1531, 0.0, 0.0, 0.0, 0.0, -0.5023, 0.0, 0.0, 0.0, -0.1531, 0.0, -0.1531, 0.0, 0.0, 0.0, 0.0, 0.0, 0.0, 0.0, 0.0, 0.0, 0.0, 0.0, 0.0, 0.0, 0.0, 0.0, 0.0, 0.0, -0.743, 0.0, 0.0, 0.0, 0.0, -0.5994, 0.0, 0.0, 0.0, 0.0, 0.0, 0.0, 0.0, 0.0, 0.0, 0.0, -0.1531, 0.0, 0.0, 0.4767, -0.5994, -0.9136, -0.1531, 0.0, 0.0, 0.0, 0.0, 0.0, 0.0, 0.0, 0.0, 0.0, -0.1531, 0.0, 0.0, 0.0, 0.0, 0.0, 0.0, 0.0, 0.0, 0.0, 0.0, 0.0, 0.0, 0.0, 0.0, 0.0, 0.0, 0.0, 0.0, 0.0, 0.0, 0.0, 0.0, 0.0, 0.0, -0.2023, 0.0, 0.0, 0.0, 0.0, 0.0, 0.0, 0.0, -0.5106, -0.6808, -0.3818, 0.0, 0.0, 0.0, 0.0, 0.3182, 0.4404, 0.0, 0.0, 0.0, 0.0, 0.0, 0.0, 0.0, 0.0, 0.0, 0.0, 0.0, 0.0, -0.743, 0.0, 0.0, 0.0, 0.0, 0.0, 0.0, 0.0, 0.0, 0.0, 0.0, 0.0, 0.0, 0.0, 0.0, 0.0, 0.0, 0.0, 0.0, 0.0, 0.0, 0.0, 0.0, 0.0, -0.8176, 0.0, 0.0, 0.0, 0.0, 0.0, 0.0, 0.0, 0.0, 0.0, 0.0, 0.0, 0.0, 0.0, 0.0, 0.0, 0.0, 0.0, 0.0, 0.3182, 0.0, 0.0, 0.0, 0.0, 0.0, 0.0, 0.0, 0.0, 0.0, 0.0, 0.0, 0.0, 0.0, -0.5994, 0.0, 0.0, -0.6249, 0.0, 0.0, 0.0, 0.0, 0.0, 0.0, 0.0, 0.0, 0.0, 0.0, 0.0, 0.0, 0.0, 0.0, 0.0, 0.0, 0.0, 0.0, 0.0, 0.0, 0.5023, 0.0, 0.0, 0.5023, 0.0258, 0.0258, 0.0, -0.1531, -0.1531, 0.0, 0.0, -0.1531, 0.0, 0.0, -0.1531, -0.1531, 0.0, 0.0, 0.0, -0.1531, 0.0, 0.0, 0.0, 0.0, 0.0, -0.1779, -0.1531, 0.0, -0.4019, 0.0, 0.0, -0.5994, 0.0, 0.0, 0.0, 0.0, -0.1531, 0.0, 0.0, -0.1531, -0.1531, 0.0, -0.1531, 0.0, 0.0, 0.0, 0.0, -0.3818, 0.0, 0.0, 0.0, 0.0, 0.0, 0.0, 0.0, 0.0, 0.0, 0.0, 0.0, 0.0, 0.0, 0.0, 0.0, 0.0, 0.0, 0.0, 0.0, 0.0, 0.0, 0.0, 0.0, 0.0, 0.0, 0.0, 0.0, 0.0, 0.0, 0.0, 0.0, 0.0, 0.0, 0.0, 0.0, 0.0, 0.128, 0.0, 0.0], 'aa.com.tr': [0.0, -0.5994, -0.4019, 0.0, 0.0, 0.0, -0.5994, 0.0, -0.5994, 0.0, 0.0, 0.4588, -0.5994, 0.0, 0.0, 0.0, -0.7184, 0.0, 0.0, 0.0, 0.0, 0.0, 0.0, 0.0], 'nytimes.com': [0.0, -0.1531, 0.0, 0.0, 0.0, 0.0, 0.0, 0.0, 0.0, 0.0, 0.0, 0.0, 0.0, -0.1531, 0.0, 0.0, 0.0, -0.1531, 0.0, 0.0, -0.5574, 0.0, 0.0, 0.0, 0.0], 'ap.org': [0.0, -0.1531, 0.0, 0.0, 0.0, -0.5994, 0.0, 0.0, 0.0, 0.0, 0.0, 0.5709, 0.0, 0.0, 0.0, 0.0], 'chinadaily.com.cn': [0.0, 0.0], 'telegraph.co.uk': [0.4019, 0.0, 0.0, 0.0, 0.0, 0.0, 0.0, 0.0, 0.0, 0.0, -0.3612, 0.0, 0.0, 0.0, 0.0, 0.0, 0.0, 0.3182, 0.4404, -0.296, 0.0, 0.0, 0.0, 0.0, 0.0, 0.0, 0.0, 0.3818, -0.1531, 0.0, -0.1531, 0.0, 0.0, 0.0, -0.3182, -0.1531, 0.0, 0.0, 0.0, 0.0, 0.0, -0.3612, 0.2023, -0.1531, 0.0, 0.0, -0.1531, -0.1531, 0.0, 0.0, 0.0, 0.0, 0.0, 0.0, 0.0, -0.1531, 0.0, 0.0, 0.0, 0.0, 0.0, -0.1531, 0.0, 0.0, 0.0, 0.0, 0.0, 0.0, 0.0, 0.0, 0.0, 0.0], 'foxnews.com': [0.0, 0.5709, -0.5994, 0.0, -0.5994, 0.0, 0.0, 0.0, 0.0, 0.0, 0.0, 0.0, 0.0, 0.0, 0.0, 0.0, 0.0, 0.0, 0.0, 0.0, -0.5994, 0.0, -0.5994, 0.0, 0.0, 0.0, 0.0, 0.0, 0.0, -0.1531, 0.0, -0.1531, 0.0, -0.1531, 0.0, -0.5994, 0.0, 0.0, -0.1531, -0.6249, 0.0, -0.6249, 0.0, -0.6249, -0.5574, -0.8402, 0.0, 0.0, 0.0, 0.0, 0.0, 0.0, 0.0, -0.1531, 0.0, 0.0, 0.0, 0.0, 0.0, 0.0, 0.0, -0.1531, 0.0, 0.0, 0.2732, 0.0, -0.4939, 0.0, 0.0, 0.0, 0.0, 0.0, 0.0, 0.0, 0.0, 0.0, -0.1531, 0.0], 'allafrica.com': [-0.5994], 'washingtonpost.com': [0.0, 0.0, 0.0, 0.0, -0.5994, 0.0, 0.0, 0.0, -0.1531, 0.0, 0.0, 0.0, 0.0, 0.0, 0.0, 0.0, 0.0, 0.0, -0.1531, 0.0, 0.0, 0.0, 0.0, -0.1531, 0.0, 0.0, 0.0, 0.0, -0.5859], 'bloomberg.com': [-0.5994, 0.0, 0.0, -0.2023, 0.0, -0.4404, -0.1531, -0.1531, 0.0, 0.0]}\n"
     ]
    }
   ],
   "source": [
    "# An example of how one entity (a city) is described by different sources\n",
    "\n",
    "print(ent_source_sent['Aleppo'])"
   ]
  },
  {
   "cell_type": "code",
   "execution_count": 19,
   "metadata": {},
   "outputs": [
    {
     "name": "stdout",
     "output_type": "stream",
     "text": [
      "We will keep a total of 7852  /  25128 in our dataset\n",
      "We have  22 sources:  ['middleeasteye.net', 'ap.org', 'techcrunch.com', 'nytimes.com', 'businessinsider.in', 'aa.com.tr', 'bbc.co.uk', 'chinadaily.com.cn', 'cnn.com', 'independent.co.uk', 'wikinews.org', 'foxnews.com', 'washingtonpost.com', 'aljazeera.com', 'telegraph.co.uk', 'bloomberg.com', 'theguardian.com', 'latimes.com', 'reuters.com', 'rt.com', 'france24.com', 'allafrica.com']\n"
     ]
    }
   ],
   "source": [
    "# We get rid of entities that don't contain enough data\n",
    "\n",
    "entities_kept = []\n",
    "\n",
    "for entity in ent_source_sent.keys():\n",
    "    sentiments = ent_source_sent[entity]\n",
    "    total_size = sum([len(sentiments[source]) for source in sentiments.keys()])\n",
    "    if total_size >= 3:\n",
    "        entities_kept.append(entity)\n",
    "        \n",
    "print(\"We will keep a total of\", len(entities_kept), \" / \", len(ent_source_sent.keys()) ,\"in our dataset\")\n",
    "\n",
    "sources = set([])\n",
    "for entity in entities_kept:\n",
    "    sources|= set(ent_source_sent[entity].keys())\n",
    "sources = list(sources)\n",
    "\n",
    "print(\"We have \", len(sources), \"sources: \", sources)"
   ]
  },
  {
   "cell_type": "markdown",
   "metadata": {},
   "source": [
    "## We create the array we will use in our sparse model"
   ]
  },
  {
   "cell_type": "code",
   "execution_count": 21,
   "metadata": {},
   "outputs": [
    {
     "name": "stdout",
     "output_type": "stream",
     "text": [
      "We allocated some sentiment in this matrix, the repartition is: Counter({0: 19062, 1: 3650, -1: 2669})\n"
     ]
    }
   ],
   "source": [
    "# Parameters: changing these affects the results you get\n",
    "Pos_neg_ratio = 2.0\n",
    "overall_ratio = 0.15\n",
    "pos_threshold = 0.15\n",
    "neg_threshold = -0.15\n",
    "\n",
    "N = len(entities_kept)\n",
    "M = len(sources)\n",
    "A = np.zeros((N, M))\n",
    "\n",
    "sentiment_counts = Counter()\n",
    "\n",
    "source2j = {source: j for j, source in enumerate(sources)}\n",
    "\n",
    "for i, entity in enumerate(entities_kept):\n",
    "    for source in ent_source_sent[entity].keys():\n",
    "        sent_array = np.array(ent_source_sent[entity][source])\n",
    "        N_pos = float(len(np.where(sent_array > pos_threshold)[0]))\n",
    "        N_neg = float(len(np.where(sent_array < neg_threshold)[0]))\n",
    "        T = float(len(sent_array))\n",
    "        aggregate_sentiment = 0\n",
    "        if N_pos > Pos_neg_ratio*N_neg and N_pos > overall_ratio*T:\n",
    "            aggregate_sentiment = 1\n",
    "        elif N_neg > Pos_neg_ratio*N_pos and N_neg > overall_ratio*T:\n",
    "            aggregate_sentiment = -1\n",
    "        j = source2j[source]\n",
    "        \n",
    "        A[i,j] = aggregate_sentiment\n",
    "        \n",
    "        sentiment_counts[aggregate_sentiment] += 1\n",
    "\n",
    "print(\"We allocated some sentiment in this matrix, the repartition is:\", sentiment_counts)"
   ]
  },
  {
   "cell_type": "markdown",
   "metadata": {},
   "source": [
    "## Model source similarity"
   ]
  },
  {
   "cell_type": "code",
   "execution_count": 12,
   "metadata": {
    "collapsed": true
   },
   "outputs": [],
   "source": [
    "# Write code that uses this matrix (entities, sources) to compute\n",
    "# source similarity visible in bias of the way they describe entities"
   ]
  },
  {
   "cell_type": "code",
   "execution_count": 23,
   "metadata": {},
   "outputs": [],
   "source": [
    "def print_positive(precision, sources):\n",
    "    for (i, j) in zip(*np.where(precision > 0)):\n",
    "        if i > j:\n",
    "            print(sources[i], sources[j])"
   ]
  },
  {
   "cell_type": "markdown",
   "metadata": {},
   "source": [
    "## Default implementation"
   ]
  },
  {
   "cell_type": "code",
   "execution_count": 24,
   "metadata": {},
   "outputs": [
    {
     "name": "stdout",
     "output_type": "stream",
     "text": [
      "Lamda:  0.001\n",
      "reuters.com ap.org\n",
      "----\n",
      "Lamda:  0.0001\n",
      "nytimes.com middleeasteye.net\n",
      "nytimes.com ap.org\n",
      "cnn.com ap.org\n",
      "foxnews.com businessinsider.in\n",
      "washingtonpost.com middleeasteye.net\n",
      "washingtonpost.com chinadaily.com.cn\n",
      "reuters.com ap.org\n",
      "reuters.com latimes.com\n",
      "rt.com ap.org\n",
      "rt.com businessinsider.in\n",
      "france24.com ap.org\n",
      "france24.com latimes.com\n",
      "allafrica.com france24.com\n",
      "----\n",
      "Lamda:  1e-05\n",
      "techcrunch.com middleeasteye.net\n",
      "techcrunch.com ap.org\n",
      "nytimes.com middleeasteye.net\n",
      "nytimes.com ap.org\n",
      "aa.com.tr techcrunch.com\n",
      "bbc.co.uk ap.org\n",
      "bbc.co.uk techcrunch.com\n",
      "chinadaily.com.cn nytimes.com\n",
      "cnn.com ap.org\n",
      "cnn.com chinadaily.com.cn\n",
      "independent.co.uk techcrunch.com\n",
      "wikinews.org ap.org\n",
      "wikinews.org businessinsider.in\n",
      "wikinews.org independent.co.uk\n",
      "foxnews.com middleeasteye.net\n",
      "foxnews.com techcrunch.com\n",
      "foxnews.com businessinsider.in\n",
      "washingtonpost.com middleeasteye.net\n",
      "washingtonpost.com chinadaily.com.cn\n",
      "aljazeera.com techcrunch.com\n",
      "theguardian.com techcrunch.com\n",
      "latimes.com techcrunch.com\n",
      "latimes.com nytimes.com\n",
      "latimes.com telegraph.co.uk\n",
      "latimes.com bloomberg.com\n",
      "reuters.com ap.org\n",
      "reuters.com techcrunch.com\n",
      "reuters.com wikinews.org\n",
      "reuters.com latimes.com\n",
      "rt.com ap.org\n",
      "rt.com businessinsider.in\n",
      "rt.com latimes.com\n",
      "france24.com ap.org\n",
      "france24.com techcrunch.com\n",
      "france24.com wikinews.org\n",
      "france24.com theguardian.com\n",
      "france24.com latimes.com\n",
      "allafrica.com middleeasteye.net\n",
      "allafrica.com nytimes.com\n",
      "allafrica.com businessinsider.in\n",
      "allafrica.com theguardian.com\n",
      "allafrica.com reuters.com\n",
      "allafrica.com france24.com\n",
      "----\n",
      "Lamda:  1e-06\n",
      "techcrunch.com middleeasteye.net\n",
      "techcrunch.com ap.org\n",
      "nytimes.com middleeasteye.net\n",
      "nytimes.com ap.org\n",
      "aa.com.tr techcrunch.com\n",
      "bbc.co.uk ap.org\n",
      "bbc.co.uk techcrunch.com\n",
      "chinadaily.com.cn techcrunch.com\n",
      "chinadaily.com.cn nytimes.com\n",
      "cnn.com ap.org\n",
      "cnn.com chinadaily.com.cn\n",
      "independent.co.uk techcrunch.com\n",
      "wikinews.org ap.org\n",
      "wikinews.org businessinsider.in\n",
      "wikinews.org independent.co.uk\n",
      "foxnews.com middleeasteye.net\n",
      "foxnews.com techcrunch.com\n",
      "foxnews.com businessinsider.in\n",
      "washingtonpost.com middleeasteye.net\n",
      "washingtonpost.com chinadaily.com.cn\n",
      "aljazeera.com techcrunch.com\n",
      "theguardian.com techcrunch.com\n",
      "latimes.com techcrunch.com\n",
      "latimes.com nytimes.com\n",
      "latimes.com cnn.com\n",
      "latimes.com telegraph.co.uk\n",
      "latimes.com bloomberg.com\n",
      "reuters.com ap.org\n",
      "reuters.com techcrunch.com\n",
      "reuters.com wikinews.org\n",
      "reuters.com latimes.com\n",
      "rt.com ap.org\n",
      "rt.com businessinsider.in\n",
      "rt.com latimes.com\n",
      "france24.com ap.org\n",
      "france24.com techcrunch.com\n",
      "france24.com wikinews.org\n",
      "france24.com theguardian.com\n",
      "france24.com latimes.com\n",
      "allafrica.com middleeasteye.net\n",
      "allafrica.com nytimes.com\n",
      "allafrica.com businessinsider.in\n",
      "allafrica.com wikinews.org\n",
      "allafrica.com theguardian.com\n",
      "allafrica.com reuters.com\n",
      "allafrica.com france24.com\n",
      "----\n",
      "Lamda:  1e-07\n",
      "techcrunch.com middleeasteye.net\n",
      "techcrunch.com ap.org\n",
      "nytimes.com middleeasteye.net\n",
      "nytimes.com ap.org\n",
      "aa.com.tr techcrunch.com\n",
      "bbc.co.uk ap.org\n",
      "bbc.co.uk techcrunch.com\n",
      "chinadaily.com.cn techcrunch.com\n",
      "chinadaily.com.cn nytimes.com\n",
      "cnn.com ap.org\n",
      "cnn.com chinadaily.com.cn\n",
      "independent.co.uk techcrunch.com\n",
      "wikinews.org ap.org\n",
      "wikinews.org techcrunch.com\n",
      "wikinews.org businessinsider.in\n",
      "wikinews.org independent.co.uk\n",
      "foxnews.com middleeasteye.net\n",
      "foxnews.com techcrunch.com\n",
      "foxnews.com businessinsider.in\n",
      "washingtonpost.com middleeasteye.net\n",
      "washingtonpost.com chinadaily.com.cn\n",
      "aljazeera.com techcrunch.com\n",
      "theguardian.com techcrunch.com\n",
      "latimes.com techcrunch.com\n",
      "latimes.com nytimes.com\n",
      "latimes.com cnn.com\n",
      "latimes.com telegraph.co.uk\n",
      "latimes.com bloomberg.com\n",
      "reuters.com ap.org\n",
      "reuters.com techcrunch.com\n",
      "reuters.com wikinews.org\n",
      "reuters.com latimes.com\n",
      "rt.com ap.org\n",
      "rt.com businessinsider.in\n",
      "rt.com latimes.com\n",
      "france24.com ap.org\n",
      "france24.com techcrunch.com\n",
      "france24.com wikinews.org\n",
      "france24.com theguardian.com\n",
      "france24.com latimes.com\n",
      "allafrica.com middleeasteye.net\n",
      "allafrica.com techcrunch.com\n",
      "allafrica.com nytimes.com\n",
      "allafrica.com businessinsider.in\n",
      "allafrica.com wikinews.org\n",
      "allafrica.com theguardian.com\n",
      "allafrica.com reuters.com\n",
      "allafrica.com france24.com\n",
      "----\n",
      "Lamda:  1e-08\n",
      "techcrunch.com middleeasteye.net\n",
      "techcrunch.com ap.org\n",
      "nytimes.com middleeasteye.net\n",
      "nytimes.com ap.org\n",
      "aa.com.tr techcrunch.com\n",
      "bbc.co.uk ap.org\n",
      "bbc.co.uk techcrunch.com\n",
      "chinadaily.com.cn techcrunch.com\n",
      "chinadaily.com.cn nytimes.com\n",
      "cnn.com ap.org\n",
      "cnn.com chinadaily.com.cn\n",
      "independent.co.uk techcrunch.com\n",
      "wikinews.org ap.org\n",
      "wikinews.org techcrunch.com\n",
      "wikinews.org businessinsider.in\n",
      "wikinews.org independent.co.uk\n",
      "foxnews.com middleeasteye.net\n",
      "foxnews.com techcrunch.com\n",
      "foxnews.com businessinsider.in\n",
      "washingtonpost.com middleeasteye.net\n",
      "washingtonpost.com chinadaily.com.cn\n",
      "aljazeera.com techcrunch.com\n",
      "telegraph.co.uk chinadaily.com.cn\n",
      "theguardian.com techcrunch.com\n",
      "latimes.com techcrunch.com\n",
      "latimes.com nytimes.com\n",
      "latimes.com cnn.com\n",
      "latimes.com telegraph.co.uk\n",
      "latimes.com bloomberg.com\n",
      "reuters.com ap.org\n",
      "reuters.com techcrunch.com\n",
      "reuters.com wikinews.org\n",
      "reuters.com latimes.com\n",
      "rt.com ap.org\n",
      "rt.com businessinsider.in\n",
      "rt.com latimes.com\n",
      "france24.com ap.org\n",
      "france24.com techcrunch.com\n",
      "france24.com wikinews.org\n",
      "france24.com theguardian.com\n",
      "france24.com latimes.com\n",
      "allafrica.com middleeasteye.net\n",
      "allafrica.com techcrunch.com\n",
      "allafrica.com nytimes.com\n",
      "allafrica.com businessinsider.in\n",
      "allafrica.com wikinews.org\n",
      "allafrica.com theguardian.com\n",
      "allafrica.com reuters.com\n",
      "allafrica.com france24.com\n",
      "----\n",
      "Lamda:  1e-09\n",
      "techcrunch.com middleeasteye.net\n",
      "techcrunch.com ap.org\n",
      "nytimes.com middleeasteye.net\n",
      "nytimes.com ap.org\n",
      "aa.com.tr techcrunch.com\n",
      "bbc.co.uk ap.org\n",
      "bbc.co.uk techcrunch.com\n",
      "chinadaily.com.cn techcrunch.com\n",
      "chinadaily.com.cn nytimes.com\n",
      "cnn.com ap.org\n",
      "cnn.com chinadaily.com.cn\n",
      "independent.co.uk techcrunch.com\n",
      "wikinews.org ap.org\n",
      "wikinews.org techcrunch.com\n",
      "wikinews.org businessinsider.in\n",
      "wikinews.org independent.co.uk\n",
      "foxnews.com middleeasteye.net\n",
      "foxnews.com techcrunch.com\n",
      "foxnews.com businessinsider.in\n",
      "washingtonpost.com middleeasteye.net\n",
      "washingtonpost.com chinadaily.com.cn\n",
      "aljazeera.com techcrunch.com\n",
      "telegraph.co.uk chinadaily.com.cn\n",
      "theguardian.com techcrunch.com\n",
      "latimes.com techcrunch.com\n",
      "latimes.com nytimes.com\n",
      "latimes.com cnn.com\n",
      "latimes.com telegraph.co.uk\n",
      "latimes.com bloomberg.com\n",
      "reuters.com ap.org\n",
      "reuters.com techcrunch.com\n",
      "reuters.com wikinews.org\n",
      "reuters.com latimes.com\n",
      "rt.com ap.org\n",
      "rt.com businessinsider.in\n",
      "rt.com latimes.com\n",
      "france24.com ap.org\n",
      "france24.com techcrunch.com\n",
      "france24.com wikinews.org\n",
      "france24.com theguardian.com\n",
      "france24.com latimes.com\n",
      "allafrica.com middleeasteye.net\n",
      "allafrica.com techcrunch.com\n",
      "allafrica.com nytimes.com\n",
      "allafrica.com businessinsider.in\n",
      "allafrica.com wikinews.org\n",
      "allafrica.com theguardian.com\n",
      "allafrica.com reuters.com\n",
      "allafrica.com france24.com\n",
      "----\n"
     ]
    }
   ],
   "source": [
    "from sklearn.covariance import GraphLasso\n",
    "\n",
    "for i in range(3,10):\n",
    "    l1_lambda = 10**(-i)\n",
    "    print(\"Lamda: \", l1_lambda)\n",
    "\n",
    "    graph_lasso = GraphLasso(alpha=l1_lambda)\n",
    "    graph_lasso.fit(A)\n",
    "    np.mean(graph_lasso.get_precision() > 0)\n",
    "    default_graph = graph_lasso.get_precision()\n",
    "\n",
    "    print_positive(default_graph, sources)\n",
    "    print(\"----\")\n"
   ]
  },
  {
   "cell_type": "markdown",
   "metadata": {},
   "source": [
    "## Our implementation"
   ]
  },
  {
   "cell_type": "code",
   "execution_count": 25,
   "metadata": {
    "collapsed": true
   },
   "outputs": [],
   "source": [
    "from GraphicalLasso import GraphicalLasso as GL\n",
    "from sklearn import linear_model\n",
    "import pandas as pd\n",
    "import seaborn as sns\n",
    "import matplotlib.pyplot as plt\n"
   ]
  },
  {
   "cell_type": "code",
   "execution_count": 26,
   "metadata": {
    "collapsed": true
   },
   "outputs": [],
   "source": [
    "S = np.cov(A.T)\n",
    "S_inv = np.linalg.inv(S)\n",
    "gl = GL(l1_solver_f=linear_model.Lasso)"
   ]
  },
  {
   "cell_type": "code",
   "execution_count": 27,
   "metadata": {},
   "outputs": [
    {
     "name": "stdout",
     "output_type": "stream",
     "text": [
      "Lamda:  0.001\n",
      "----\n",
      "Lamda:  0.0001\n",
      "----\n",
      "Lamda:  1e-05\n",
      "----\n",
      "Lamda:  1e-06\n",
      "cnn.com ap.org\n",
      "reuters.com ap.org\n",
      "----\n",
      "Lamda:  1e-07\n",
      "nytimes.com ap.org\n",
      "chinadaily.com.cn nytimes.com\n",
      "cnn.com ap.org\n",
      "washingtonpost.com middleeasteye.net\n",
      "latimes.com nytimes.com\n",
      "reuters.com ap.org\n",
      "reuters.com latimes.com\n",
      "rt.com ap.org\n",
      "france24.com ap.org\n",
      "allafrica.com nytimes.com\n",
      "allafrica.com reuters.com\n",
      "allafrica.com france24.com\n",
      "----\n",
      "Lamda:  1e-08\n",
      "techcrunch.com middleeasteye.net\n",
      "nytimes.com middleeasteye.net\n",
      "nytimes.com ap.org\n",
      "bbc.co.uk ap.org\n",
      "bbc.co.uk businessinsider.in\n",
      "chinadaily.com.cn nytimes.com\n",
      "chinadaily.com.cn businessinsider.in\n",
      "cnn.com ap.org\n",
      "cnn.com chinadaily.com.cn\n",
      "wikinews.org ap.org\n",
      "wikinews.org independent.co.uk\n",
      "foxnews.com middleeasteye.net\n",
      "foxnews.com businessinsider.in\n",
      "washingtonpost.com middleeasteye.net\n",
      "washingtonpost.com chinadaily.com.cn\n",
      "latimes.com nytimes.com\n",
      "latimes.com independent.co.uk\n",
      "latimes.com telegraph.co.uk\n",
      "reuters.com ap.org\n",
      "reuters.com latimes.com\n",
      "rt.com ap.org\n",
      "rt.com businessinsider.in\n",
      "rt.com latimes.com\n",
      "france24.com ap.org\n",
      "france24.com theguardian.com\n",
      "france24.com latimes.com\n",
      "allafrica.com middleeasteye.net\n",
      "allafrica.com nytimes.com\n",
      "allafrica.com businessinsider.in\n",
      "allafrica.com theguardian.com\n",
      "allafrica.com reuters.com\n",
      "allafrica.com france24.com\n",
      "----\n",
      "Lamda:  1e-09\n",
      "techcrunch.com middleeasteye.net\n",
      "techcrunch.com ap.org\n",
      "nytimes.com middleeasteye.net\n",
      "nytimes.com ap.org\n",
      "bbc.co.uk ap.org\n",
      "bbc.co.uk businessinsider.in\n",
      "chinadaily.com.cn nytimes.com\n",
      "chinadaily.com.cn businessinsider.in\n",
      "cnn.com ap.org\n",
      "cnn.com chinadaily.com.cn\n",
      "wikinews.org ap.org\n",
      "wikinews.org businessinsider.in\n",
      "wikinews.org independent.co.uk\n",
      "foxnews.com middleeasteye.net\n",
      "foxnews.com businessinsider.in\n",
      "washingtonpost.com middleeasteye.net\n",
      "washingtonpost.com chinadaily.com.cn\n",
      "latimes.com independent.co.uk\n",
      "latimes.com telegraph.co.uk\n",
      "reuters.com ap.org\n",
      "reuters.com latimes.com\n",
      "rt.com ap.org\n",
      "rt.com businessinsider.in\n",
      "rt.com latimes.com\n",
      "france24.com ap.org\n",
      "france24.com theguardian.com\n",
      "france24.com latimes.com\n",
      "allafrica.com middleeasteye.net\n",
      "allafrica.com nytimes.com\n",
      "allafrica.com businessinsider.in\n",
      "allafrica.com theguardian.com\n",
      "allafrica.com reuters.com\n",
      "allafrica.com france24.com\n",
      "----\n"
     ]
    }
   ],
   "source": [
    "for i in range(3,10):\n",
    "    l1_lambda = 10**(-i)\n",
    "    print(\"Lamda: \", l1_lambda)\n",
    "    theta_estimated = gl.fit(S, l1_lambda=l1_lambda)\n",
    "    print_positive(theta_estimated, sources)\n",
    "    print(\"----\")"
   ]
  },
  {
   "cell_type": "code",
   "execution_count": 28,
   "metadata": {
    "collapsed": true
   },
   "outputs": [],
   "source": [
    "theta_estimated = gl.fit(S, l1_lambda=1e-7)"
   ]
  },
  {
   "cell_type": "code",
   "execution_count": 29,
   "metadata": {
    "collapsed": true
   },
   "outputs": [],
   "source": [
    "def plot_estimated_graph(graph, ticks, vmax=10):\n",
    "    sns.set(style=\"white\")\n",
    "\n",
    "    # Generate a large random dataset\n",
    "    I = pd.Index(ticks, name=\"rows\")\n",
    "    C = pd.Index(ticks, name=\"columns\")\n",
    "    graph_frame = pd.DataFrame(data=graph, index=I, columns=C)\n",
    "\n",
    "    # Generate a mask for the upper triangle\n",
    "    mask = np.zeros_like(graph, dtype=np.bool)\n",
    "    mask[np.triu_indices_from(mask)] = True\n",
    "\n",
    "    # Set up the matplotlib figure\n",
    "    f, ax = plt.subplots(figsize=(11, 9))\n",
    "\n",
    "    # Generate a custom diverging colormap\n",
    "    cmap = sns.diverging_palette(220, 10, as_cmap=True)\n",
    "\n",
    "    # Draw the heatmap with the mask and correct aspect ratio\n",
    "    sns.heatmap(graph_frame, mask=mask, cmap=cmap, vmax=vmax, center=0,\n",
    "                square=True, linewidths=.5, cbar_kws={\"shrink\": .5})\n",
    "\n",
    "    plt.show()"
   ]
  },
  {
   "cell_type": "code",
   "execution_count": 30,
   "metadata": {},
   "outputs": [
    {
     "data": {
      "image/png": "[encoded data removed]",
      "text/plain": [
       "<matplotlib.figure.Figure at 0x10d8b3cc0>"
      ]
     },
     "metadata": {},
     "output_type": "display_data"
    }
   ],
   "source": [
    "plot_estimated_graph(theta_estimated, sources)"
   ]
  },
  {
   "cell_type": "code",
   "execution_count": null,
   "metadata": {
    "collapsed": true
   },
   "outputs": [],
   "source": []
  }
 ],
 "metadata": {
  "anaconda-cloud": {},
  "kernelspec": {
   "display_name": "ee227-py3",
   "language": "python",
   "name": "ee227-py3"
  },
  "language_info": {
   "codemirror_mode": {
    "name": "ipython",
    "version": 3
   },
   "file_extension": ".py",
   "mimetype": "text/x-python",
   "name": "python",
   "nbconvert_exporter": "python",
   "pygments_lexer": "ipython3",
   "version": "3.6.1"
  },
  "widgets": {
   "state": {
    "778194441efa4fe0ac005b5453b5c790": {
     "views": [
      {
       "cell_index": 6
      }
     ]
    }
   },
   "version": "1.2.0"
  }
 },
 "nbformat": 4,
 "nbformat_minor": 1
}
